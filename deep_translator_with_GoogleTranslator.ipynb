{
  "cells": [
    {
      "cell_type": "code",
      "source": [
        "import pandas as pd\n",
        "import os\n",
        "\n",
        "def split_csv(input_file, output_dir, chunk_size=500):\n",
        "\n",
        "    if not os.path.exists(output_dir):\n",
        "        os.makedirs(output_dir)\n",
        "\n",
        "    try:\n",
        "        df = pd.read_csv(input_file)\n",
        "        num_chunks = (len(df) + chunk_size - 1) // chunk_size\n",
        "\n",
        "        for i in range(num_chunks):\n",
        "            start = i * chunk_size\n",
        "            end = min((i + 1) * chunk_size, len(df))\n",
        "            chunk = df.iloc[start:end]\n",
        "            output_file = os.path.join(output_dir, f\"output_{i+1}.csv\")\n",
        "            chunk.to_csv(output_file, index=False)\n",
        "        print(f\"Successfully split {input_file} into {num_chunks} files in {output_dir}\")\n",
        "\n",
        "    except FileNotFoundError:\n",
        "        print(f\"Error: Input file '{input_file}' not found.\")\n",
        "    except Exception as e:\n",
        "        print(f\"An error occurred: {e}\")\n",
        "\n",
        "\n",
        "input_file = \"/content/my_dataset1.csv\"\n",
        "output_dir = \"/content/input csvs\"\n",
        "split_csv(input_file, output_dir)\n"
      ],
      "metadata": {
        "id": "2vFjHucIHf7o",
        "colab": {
          "base_uri": "https://localhost:8080/"
        },
        "outputId": "625186e2-fd69-459c-cfaf-c5f6137b0956"
      },
      "execution_count": 1,
      "outputs": [
        {
          "output_type": "stream",
          "name": "stdout",
          "text": [
            "Successfully split /content/my_dataset1.csv into 10 files in /content/input csvs\n"
          ]
        }
      ]
    },
    {
      "cell_type": "code",
      "execution_count": 2,
      "metadata": {
        "colab": {
          "base_uri": "https://localhost:8080/"
        },
        "id": "aVv4BuHdRahd",
        "outputId": "58e2949d-b83f-44d9-e54a-4e06c3bd902d"
      },
      "outputs": [
        {
          "output_type": "stream",
          "name": "stdout",
          "text": [
            "Collecting deep-translator==1.9.2\n",
            "  Downloading deep_translator-1.9.2-py3-none-any.whl.metadata (25 kB)\n",
            "Requirement already satisfied: beautifulsoup4<5.0.0,>=4.9.1 in /usr/local/lib/python3.11/dist-packages (from deep-translator==1.9.2) (4.13.4)\n",
            "Requirement already satisfied: requests<3.0.0,>=2.23.0 in /usr/local/lib/python3.11/dist-packages (from deep-translator==1.9.2) (2.32.3)\n",
            "Requirement already satisfied: soupsieve>1.2 in /usr/local/lib/python3.11/dist-packages (from beautifulsoup4<5.0.0,>=4.9.1->deep-translator==1.9.2) (2.7)\n",
            "Requirement already satisfied: typing-extensions>=4.0.0 in /usr/local/lib/python3.11/dist-packages (from beautifulsoup4<5.0.0,>=4.9.1->deep-translator==1.9.2) (4.13.2)\n",
            "Requirement already satisfied: charset-normalizer<4,>=2 in /usr/local/lib/python3.11/dist-packages (from requests<3.0.0,>=2.23.0->deep-translator==1.9.2) (3.4.1)\n",
            "Requirement already satisfied: idna<4,>=2.5 in /usr/local/lib/python3.11/dist-packages (from requests<3.0.0,>=2.23.0->deep-translator==1.9.2) (3.10)\n",
            "Requirement already satisfied: urllib3<3,>=1.21.1 in /usr/local/lib/python3.11/dist-packages (from requests<3.0.0,>=2.23.0->deep-translator==1.9.2) (2.4.0)\n",
            "Requirement already satisfied: certifi>=2017.4.17 in /usr/local/lib/python3.11/dist-packages (from requests<3.0.0,>=2.23.0->deep-translator==1.9.2) (2025.4.26)\n",
            "Downloading deep_translator-1.9.2-py3-none-any.whl (30 kB)\n",
            "Installing collected packages: deep-translator\n",
            "Successfully installed deep-translator-1.9.2\n",
            "Finished processing: output_4.csv\n",
            "Finished processing: output_2.csv\n",
            "Finished processing: output_1.csv\n",
            "Finished processing: output_3.csv\n",
            "Finished processing: output_6.csv\n",
            "Finished processing: output_10.csv\n",
            "Finished processing: output_5.csv\n",
            "Finished processing: output_7.csv\n",
            "Finished processing: output_9.csv\n",
            "Finished processing: output_8.csv\n",
            "All files processed.\n"
          ]
        }
      ],
      "source": [
        "!pip install deep-translator==1.9.2\n",
        "\n",
        "import pandas as pd\n",
        "import time\n",
        "import os\n",
        "from deep_translator import GoogleTranslator\n",
        "\n",
        "#translation function\n",
        "def translate_text(text, target_lang='si', max_retries=3):\n",
        "    if not isinstance(text, str) or text.strip() == '':\n",
        "        return text\n",
        "    for attempt in range(max_retries):\n",
        "        try:\n",
        "            translated = GoogleTranslator(source='en', target=target_lang).translate(text)\n",
        "            time.sleep(0.5)\n",
        "            return translated\n",
        "        except Exception as e:\n",
        "            if attempt == max_retries - 1:\n",
        "                print(f\"Failed to translate: {text}. Error: {e}\")\n",
        "                return text\n",
        "            time.sleep(1)\n",
        "    return text\n",
        "\n",
        "# Input and output directories\n",
        "input_dir = '/content/input csvs'\n",
        "output_dir = '/content/output csvs'\n",
        "\n",
        "if not os.path.exists(output_dir):\n",
        "    os.makedirs(output_dir)\n",
        "\n",
        "for filename in os.listdir(input_dir):\n",
        "    if filename.endswith('.csv'):\n",
        "        input_file = os.path.join(input_dir, filename)\n",
        "        output_file = os.path.join(output_dir, filename)  # Use same filename for output\n",
        "\n",
        "        try:\n",
        "            df = pd.read_csv(input_file)\n",
        "            df['question_si'] = df['question'].apply(lambda x: translate_text(x, 'si'))\n",
        "            df['reference_answer_si'] = df['reference_answer'].apply(lambda x: translate_text(x, 'si'))\n",
        "            df['student_answer_si'] = df['student_answer'].apply(lambda x: translate_text(x, 'si'))\n",
        "            df.to_csv(output_file, index=False, encoding='utf-8')\n",
        "            print(f\"Finished processing: {filename}\")\n",
        "        except Exception as e:\n",
        "            print(f\"Error processing {filename}: {e}\")\n",
        "\n",
        "print(\"All files processed.\")"
      ]
    }
  ],
  "metadata": {
    "colab": {
      "provenance": [],
      "authorship_tag": "ABX9TyPQlp3HyOQTKJwCqwjgAvKC"
    },
    "kernelspec": {
      "display_name": "Python 3",
      "name": "python3"
    },
    "language_info": {
      "name": "python"
    }
  },
  "nbformat": 4,
  "nbformat_minor": 0
}